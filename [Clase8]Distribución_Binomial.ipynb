{
  "nbformat": 4,
  "nbformat_minor": 0,
  "metadata": {
    "colab": {
      "name": "[Clase8]Distribución_Binomial.ipynb",
      "provenance": [],
      "collapsed_sections": [],
      "include_colab_link": true
    },
    "kernelspec": {
      "name": "python3",
      "display_name": "Python 3"
    }
  },
  "cells": [
    {
      "cell_type": "markdown",
      "metadata": {
        "id": "view-in-github",
        "colab_type": "text"
      },
      "source": [
        "<a href=\"https://colab.research.google.com/github/daniel4096/T.S/blob/master/%5BClase8%5DDistribuci%C3%B3n_Binomial.ipynb\" target=\"_parent\"><img src=\"https://colab.research.google.com/assets/colab-badge.svg\" alt=\"Open In Colab\"/></a>"
      ]
    },
    {
      "cell_type": "code",
      "metadata": {
        "id": "mk5PbdQ60KHF"
      },
      "source": [
        "import numpy as np\n",
        "from numpy.random import binomial\n",
        "from scipy.stats import binom\n",
        "from math import factorial\n",
        "import matplotlib.pyplot as plt"
      ],
      "execution_count": 8,
      "outputs": []
    },
    {
      "cell_type": "markdown",
      "metadata": {
        "id": "j0ZPLw1C275z"
      },
      "source": [
        "## Secuencias de eventos tipo Bernoulli\n",
        "\n",
        "$$\n",
        "P(k, n; p) = {n \\choose k} p^k (1-p)^{n-k} = \\frac{n!}{k!(n-k)!}p^k (1-p)^{n-k}\n",
        "$$"
      ]
    },
    {
      "cell_type": "code",
      "metadata": {
        "id": "zV3MBWjh3q1I"
      },
      "source": [
        "# definición de la distribución binomial \n",
        "def my_binomial(k, n, p):\n",
        "  return factorial(n)/(factorial(k)*(factorial(n-k)))*pow(p,k)*pow(1-p, n-k)"
      ],
      "execution_count": 9,
      "outputs": []
    },
    {
      "cell_type": "code",
      "metadata": {
        "id": "1zz8o3qp4SaV",
        "colab": {
          "base_uri": "https://localhost:8080/"
        },
        "outputId": "53499bb0-569b-4f12-9e1e-a109462b8794"
      },
      "source": [
        "print('my binomial: {}'.format(my_binomial(2, 3, 0.5)))\n",
        "dist = binom(3, 0.5)\n",
        "dist.pmf(2)"
      ],
      "execution_count": 10,
      "outputs": [
        {
          "output_type": "stream",
          "text": [
            "my binomial: 0.375\n"
          ],
          "name": "stdout"
        },
        {
          "output_type": "execute_result",
          "data": {
            "text/plain": [
              "0.375"
            ]
          },
          "metadata": {
            "tags": []
          },
          "execution_count": 10
        }
      ]
    },
    {
      "cell_type": "markdown",
      "metadata": {
        "id": "U6RH83Vfp5Jh"
      },
      "source": [
        "## Validación del ejercicio hecho a mano\n",
        "\n",
        "$$\n",
        "P(k\\leq 2, n=3, p=1/2) = \\sum_{k=0}^2 \\left[ \\frac{n!}{k!(n-k)!}p^k (1-p)^{n-k} \\right] = \\frac{7}{8}\n",
        "$$\n"
      ]
    },
    {
      "cell_type": "code",
      "metadata": {
        "id": "X6pS-e1k3E6D",
        "colab": {
          "base_uri": "https://localhost:8080/"
        },
        "outputId": "286944c7-83bc-4178-c825-0453e201296e"
      },
      "source": [
        "print(7/8.0)\n",
        "dist.cdf(2)"
      ],
      "execution_count": 11,
      "outputs": [
        {
          "output_type": "stream",
          "text": [
            "0.875\n"
          ],
          "name": "stdout"
        },
        {
          "output_type": "execute_result",
          "data": {
            "text/plain": [
              "0.875"
            ]
          },
          "metadata": {
            "tags": []
          },
          "execution_count": 11
        }
      ]
    },
    {
      "cell_type": "markdown",
      "metadata": {
        "id": "HFfJnG06rO6I"
      },
      "source": [
        "## Simulaciones de secuencias con generadores aleatorios\n",
        "\n",
        "* Los generadores aleatorios tienen como propósito simular muestras de datos que resultarían de muestreos en la vida real de procesos aleatorios como lanzar una moneda o un dado."
      ]
    },
    {
      "cell_type": "code",
      "metadata": {
        "id": "DgvwIIkD2hbo",
        "colab": {
          "base_uri": "https://localhost:8080/"
        },
        "outputId": "0e7d0a5f-76a7-475a-971a-408d835c5954"
      },
      "source": [
        "# simulación con 100 lanzamientos de moneda equilibrada\n",
        "# (ejecuta esta celda varias veces para observar la variación en los resultados)\n",
        "p=0.5\n",
        "n=3\n",
        "binomial(n, p)"
      ],
      "execution_count": 12,
      "outputs": [
        {
          "output_type": "execute_result",
          "data": {
            "text/plain": [
              "3"
            ]
          },
          "metadata": {
            "tags": []
          },
          "execution_count": 12
        }
      ]
    },
    {
      "cell_type": "code",
      "metadata": {
        "id": "TjFgKhWFsjom"
      },
      "source": [
        "# Vamos a hacer un experimento generando una muestra de conjuntos de lanzamientos de a 3 monedas\n",
        "arr = []\n",
        "for _ in range(100):\n",
        "  arr.append(binomial(n, p))"
      ],
      "execution_count": 14,
      "outputs": []
    },
    {
      "cell_type": "code",
      "metadata": {
        "id": "v7hIwGTDs3Um",
        "colab": {
          "base_uri": "https://localhost:8080/",
          "height": 809
        },
        "outputId": "9121c003-a1c1-4699-d6c7-44e0d447e06b"
      },
      "source": [
        "def plot_hist(num_trials):\n",
        "  values = [0,1,2,3]\n",
        "  arr = []\n",
        "  for _ in range(num_trials):\n",
        "    arr.append(binomial(3, 0.5))\n",
        "  distribucion_simulada = np.unique(arr, return_counts=True)[1]/len(arr)\n",
        "  distribucion_teorica = [binom(3, 0.5).pmf(k) for k in values]\n",
        "  plt.bar(values, distribucion_teorica, label = 'teoría', color = 'red')\n",
        "  plt.bar(values, distribucion_simulada, label = 'simulación', alpha = 0.5, color = 'blue')\n",
        "  plt.title('simulación con {} experimentos'.format(num_trials))\n",
        "  plt.show()\n",
        "\n",
        "plot_hist(20)\n",
        "plot_hist(200)\n",
        "plot_hist(20000)"
      ],
      "execution_count": 15,
      "outputs": [
        {
          "output_type": "display_data",
          "data": {
            "image/png": "[encoded data removed]",
            "text/plain": [
              "<Figure size 432x288 with 1 Axes>"
            ]
          },
          "metadata": {
            "tags": [],
            "needs_background": "light"
          }
        },
        {
          "output_type": "display_data",
          "data": {
            "image/png": "[encoded data removed]",
            "text/plain": [
              "<Figure size 432x288 with 1 Axes>"
            ]
          },
          "metadata": {
            "tags": [],
            "needs_background": "light"
          }
        },
        {
          "output_type": "display_data",
          "data": {
            "image/png": "[encoded data removed]",
            "text/plain": [
              "<Figure size 432x288 with 1 Axes>"
            ]
          },
          "metadata": {
            "tags": [],
            "needs_background": "light"
          }
        }
      ]
    },
    {
      "cell_type": "code",
      "metadata": {
        "id": "qFlIUh5s0Jv_"
      },
      "source": [
        ""
      ],
      "execution_count": 6,
      "outputs": []
    }
  ]
}